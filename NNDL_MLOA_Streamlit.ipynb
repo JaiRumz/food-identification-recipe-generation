{
  "cells": [
    {
      "cell_type": "code",
      "execution_count": null,
      "metadata": {
        "colab": {
          "base_uri": "https://localhost:8080/"
        },
        "id": "6w9Kfim-quzy",
        "outputId": "594bd96e-c148-4990-eab7-1d80ffcc0d22"
      },
      "outputs": [
        {
          "name": "stdout",
          "output_type": "stream",
          "text": [
            "Mounted at /content/drive\n"
          ]
        }
      ],
      "source": [
        "from google.colab import drive\n",
        "drive.mount('/content/drive')"
      ]
    },
    {
      "cell_type": "code",
      "execution_count": null,
      "metadata": {
        "colab": {
          "base_uri": "https://localhost:8080/"
        },
        "id": "RvlYkCQ9vFiy",
        "outputId": "7356d7a1-d141-4a5c-8c76-a0d51db11d07"
      },
      "outputs": [
        {
          "name": "stdout",
          "output_type": "stream",
          "text": [
            "\u001b[?25l     \u001b[90m━━━━━━━━━━━━━━━━━━━━━━━━━━━━━━━━━━━━━━━━\u001b[0m \u001b[32m0.0/8.1 MB\u001b[0m \u001b[31m?\u001b[0m eta \u001b[36m-:--:--\u001b[0m\r\u001b[2K     \u001b[91m━\u001b[0m\u001b[90m╺\u001b[0m\u001b[90m━━━━━━━━━━━━━━━━━━━━━━━━━━━━━━━━━━━━━━\u001b[0m \u001b[32m0.3/8.1 MB\u001b[0m \u001b[31m8.8 MB/s\u001b[0m eta \u001b[36m0:00:01\u001b[0m\r\u001b[2K     \u001b[91m━━━━━━━━━━━━━━━━━━━━━━━━━━━━━\u001b[0m\u001b[90m╺\u001b[0m\u001b[90m━━━━━━━━━━\u001b[0m \u001b[32m6.0/8.1 MB\u001b[0m \u001b[31m87.3 MB/s\u001b[0m eta \u001b[36m0:00:01\u001b[0m\r\u001b[2K     \u001b[91m━━━━━━━━━━━━━━━━━━━━━━━━━━━━━━━━━━━━━━━\u001b[0m\u001b[91m╸\u001b[0m \u001b[32m8.1/8.1 MB\u001b[0m \u001b[31m94.8 MB/s\u001b[0m eta \u001b[36m0:00:01\u001b[0m\r\u001b[2K     \u001b[90m━━━━━━━━━━━━━━━━━━━━━━━━━━━━━━━━━━━━━━━━\u001b[0m \u001b[32m8.1/8.1 MB\u001b[0m \u001b[31m62.7 MB/s\u001b[0m eta \u001b[36m0:00:00\u001b[0m\n",
            "\u001b[2K     \u001b[90m━━━━━━━━━━━━━━━━━━━━━━━━━━━━━━━━━━━━━━━━\u001b[0m \u001b[32m53.0/53.0 kB\u001b[0m \u001b[31m7.4 MB/s\u001b[0m eta \u001b[36m0:00:00\u001b[0m\n",
            "\u001b[2K     \u001b[90m━━━━━━━━━━━━━━━━━━━━━━━━━━━━━━━━━━━━━━━━\u001b[0m \u001b[32m207.3/207.3 kB\u001b[0m \u001b[31m28.7 MB/s\u001b[0m eta \u001b[36m0:00:00\u001b[0m\n",
            "\u001b[2K     \u001b[90m━━━━━━━━━━━━━━━━━━━━━━━━━━━━━━━━━━━━━━━━\u001b[0m \u001b[32m4.8/4.8 MB\u001b[0m \u001b[31m93.3 MB/s\u001b[0m eta \u001b[36m0:00:00\u001b[0m\n",
            "\u001b[2K     \u001b[90m━━━━━━━━━━━━━━━━━━━━━━━━━━━━━━━━━━━━━━━━\u001b[0m \u001b[32m83.0/83.0 kB\u001b[0m \u001b[31m12.6 MB/s\u001b[0m eta \u001b[36m0:00:00\u001b[0m\n",
            "\u001b[2K     \u001b[90m━━━━━━━━━━━━━━━━━━━━━━━━━━━━━━━━━━━━━━━━\u001b[0m \u001b[32m62.7/62.7 kB\u001b[0m \u001b[31m9.0 MB/s\u001b[0m eta \u001b[36m0:00:00\u001b[0m\n",
            "\u001b[?25h"
          ]
        }
      ],
      "source": [
        "!pip install -q streamlit"
      ]
    },
    {
      "cell_type": "code",
      "execution_count": null,
      "metadata": {
        "colab": {
          "base_uri": "https://localhost:8080/"
        },
        "id": "i4e8jTy8n6o1",
        "outputId": "c9f4eb5b-a805-4012-941b-78eaff5b12d9"
      },
      "outputs": [
        {
          "name": "stdout",
          "output_type": "stream",
          "text": [
            "Writing app.py\n"
          ]
        }
      ],
      "source": [
        "%%writefile app.py\n",
        "import streamlit as st\n",
        "import tensorflow as tf\n",
        "import pandas as pd\n",
        "from keras.optimizers import Adam\n",
        "import google.generativeai as genai\n",
        "genai.configure(api_key='your_key_here')\n",
        "\n",
        "generation_config = {\n",
        "  \"temperature\":0,\n",
        "  \"top_p\":1,\n",
        "  \"top_k\":1,\n",
        "  \"max_output_tokens\":2000\n",
        "}\n",
        "\n",
        "safety_settings = [\n",
        "    {\n",
        "        \"category\": \"HARM_CATEGORY_HARASSMENT\",\n",
        "        \"threshold\": \"BLOCK_NONE\"\n",
        "    },\n",
        "    {\n",
        "        \"category\": \"HARM_CATEGORY_HATE_SPEECH\",\n",
        "        \"threshold\": \"BLOCK_NONE\"\n",
        "    },\n",
        "    {\n",
        "        \"category\": \"HARM_CATEGORY_SEXUALLY_EXPLICIT\",\n",
        "        \"threshold\": \"BLOCK_NONE\"\n",
        "    },\n",
        "    {\n",
        "        \"category\": \"HARM_CATEGORY_DANGEROUS_CONTENT\",\n",
        "        \"threshold\": \"BLOCK_NONE\"\n",
        "    },\n",
        "]\n",
        "\n",
        "model_gen = genai.GenerativeModel('gemini-pro', generation_config=generation_config, safety_settings=safety_settings)\n",
        "\n",
        "class_names = ['apple_pie',\n",
        "                'baby_back_ribs',\n",
        "                'baklava',\n",
        "                'beef_carpaccio',\n",
        "                'beef_tartare',\n",
        "                'beet_salad',\n",
        "                'beignets',\n",
        "                'bibimbap',\n",
        "                'bread_pudding',\n",
        "                'breakfast_burrito',\n",
        "                'bruschetta',\n",
        "                'caesar_salad',\n",
        "                'cannoli',\n",
        "                'caprese_salad',\n",
        "                'carrot_cake',\n",
        "                'ceviche',\n",
        "                'cheesecake',\n",
        "                'cheese_plate',\n",
        "                'chicken_curry',\n",
        "                'chicken_quesadilla',\n",
        "                'chicken_wings',\n",
        "                'chocolate_cake',\n",
        "                'chocolate_mousse',\n",
        "                'churros',\n",
        "                'clam_chowder',\n",
        "                'club_sandwich',\n",
        "                'crab_cakes',\n",
        "                'creme_brulee',\n",
        "                'croque_madame',\n",
        "                'cup_cakes',\n",
        "                'deviled_eggs',\n",
        "                'donuts',\n",
        "                'dumplings',\n",
        "                'edamame',\n",
        "                'eggs_benedict',\n",
        "                'escargots',\n",
        "                'falafel',\n",
        "                'filet_mignon',\n",
        "                'fish_and_chips',\n",
        "                'foie_gras',\n",
        "                'french_fries',\n",
        "                'french_onion_soup',\n",
        "                'french_toast',\n",
        "                'fried_calamari',\n",
        "                'fried_rice',\n",
        "                'frozen_yogurt',\n",
        "                'garlic_bread',\n",
        "                'gnocchi',\n",
        "                'greek_salad',\n",
        "                'grilled_cheese_sandwich',\n",
        "                'grilled_salmon',\n",
        "                'guacamole',\n",
        "                'gyoza',\n",
        "                'hamburger',\n",
        "                'hot_and_sour_soup',\n",
        "                'hot_dog',\n",
        "                'huevos_rancheros',\n",
        "                'hummus',\n",
        "                'ice_cream',\n",
        "                'lasagna',\n",
        "                'lobster_bisque',\n",
        "                'lobster_roll_sandwich',\n",
        "                'macaroni_and_cheese',\n",
        "                'macarons',\n",
        "                'miso_soup',\n",
        "                'mussels',\n",
        "                'nachos',\n",
        "                'omelette',\n",
        "                'onion_rings',\n",
        "                'oysters',\n",
        "                'pad_thai',\n",
        "                'paella',\n",
        "                'pancakes',\n",
        "                'panna_cotta',\n",
        "                'peking_duck',\n",
        "                'pho',\n",
        "                'pizza',\n",
        "                'pork_chop',\n",
        "                'poutine',\n",
        "                'prime_rib',\n",
        "                'pulled_pork_sandwich',\n",
        "                'ramen',\n",
        "                'ravioli',\n",
        "                'red_velvet_cake',\n",
        "                'risotto',\n",
        "                'samosa',\n",
        "                'sashimi',\n",
        "                'scallops',\n",
        "                'seaweed_salad',\n",
        "                'shrimp_and_grits',\n",
        "                'spaghetti_bolognese',\n",
        "                'spaghetti_carbonara',\n",
        "                'spring_rolls',\n",
        "                'steak',\n",
        "                'strawberry_shortcake',\n",
        "                'sushi',\n",
        "                'tacos',\n",
        "                'takoyaki',\n",
        "                'tiramisu',\n",
        "                'tuna_tartare',\n",
        "                'waffles']\n",
        "\n",
        "def preprocess(image, shape=224, scale=False):\n",
        "    image = tf.image.decode_image(image, channels=3)\n",
        "    image = tf.image.resize(image, size=([shape, shape]))\n",
        "    if scale:\n",
        "        image = image/255.\n",
        "    return image\n",
        "\n",
        "@st.cache\n",
        "def predicting(image, model):\n",
        "    image = preprocess(image, scale=False)\n",
        "    # image = tf.cast(tf.expand_dims(image, axis=0), tf.int16)\n",
        "    pred_conf = model.predict(tf.expand_dims(image, axis=0))\n",
        "    pred_class = class_names[pred_conf.argmax()]\n",
        "\n",
        "    return pred_class, pred_conf\n",
        "\n",
        "st.set_page_config(page_title=\"Food Identification\")\n",
        "\n",
        "# Sidebar\n",
        "st.sidebar.title(\"What is Food Identification?\")\n",
        "st.sidebar.write(\"\"\"\n",
        "Food Identification is used to identify the food in your image using a CNN model for classification.\n",
        "\n",
        "Transfer Learning is used, with the pre-trained model being EfficientNetB1.\n",
        "\n",
        "The dataset used for training is Food101, which has 101 different classes of food.\n",
        "\n",
        "Created by Jai Ramani, Aditya Pune and Raj Ranadive.\n",
        "\"\"\")\n",
        "\n",
        "# Main Body of Page\n",
        "st.title(\"Food Identification\")\n",
        "file = st.file_uploader(label=\"Upload an image of food.\",\n",
        "                        type=[\"jpg\", \"jpeg\", \"png\"])\n",
        "\n",
        "model = tf.keras.models.load_model(\"/content/drive/MyDrive/food_v5.hdf5\")\n",
        "\n",
        "if not file:\n",
        "    st.stop()\n",
        "\n",
        "else:\n",
        "    image = file.read()\n",
        "    st.image(image, use_column_width=True)\n",
        "\n",
        "pred_button = st.checkbox(\"Predict and Generate Recipe\")\n",
        "\n",
        "if pred_button:\n",
        "    pred_class, pred_conf = predicting(image, model)\n",
        "    st.session_state['class'] = pred_class\n",
        "    pred_class = pred_class.replace(\"_\",\" \").capitalize()\n",
        "    st.subheader(f'The food has been identified as {pred_class}')\n",
        "    st.success(f'Confidence: {pred_conf.max()*100:.2f}%', icon=\"✅\")\n",
        "\n",
        "    specif = st.radio('Any customizations?', ['Yes','No'])\n",
        "\n",
        "    if specif == 'Yes':\n",
        "        specification = st.text_input(\"Enter your customization\")\n",
        "        if len(specification)>1:\n",
        "            content = \"Give me a recipe for \" + st.session_state['class'] + \" with customization: \" + specification\n",
        "            response = model_gen.generate_content(content)\n",
        "            for candidate in response.candidates:\n",
        "                text = [part.text for part in candidate.content.parts]\n",
        "            st.write(text[0])\n",
        "\n",
        "    else:\n",
        "        content = \"Give me a recipe for \" + st.session_state['class']\n",
        "        response = model_gen.generate_content(content)\n",
        "        for candidate in response.candidates:\n",
        "            text = [part.text for part in candidate.content.parts]\n",
        "        st.write(text[0])"
      ]
    },
    {
      "cell_type": "code",
      "execution_count": null,
      "metadata": {
        "colab": {
          "base_uri": "https://localhost:8080/"
        },
        "id": "ZAyqQCQVOoxC",
        "outputId": "070b66a5-6de7-4a93-a6d9-8af28c92f095"
      },
      "outputs": [
        {
          "name": "stdout",
          "output_type": "stream",
          "text": [
            "\u001b[K\u001b[?25h\u001b[37;40mnpm\u001b[0m \u001b[0m\u001b[30;43mWARN\u001b[0m \u001b[0m\u001b[35msaveError\u001b[0m ENOENT: no such file or directory, open '/content/package.json'\n",
            "\u001b[0m\u001b[37;40mnpm\u001b[0m \u001b[0m\u001b[34;40mnotice\u001b[0m\u001b[35m\u001b[0m created a lockfile as package-lock.json. You should commit this file.\n",
            "\u001b[0m\u001b[37;40mnpm\u001b[0m \u001b[0m\u001b[30;43mWARN\u001b[0m \u001b[0m\u001b[35menoent\u001b[0m ENOENT: no such file or directory, open '/content/package.json'\n",
            "\u001b[0m\u001b[37;40mnpm\u001b[0m \u001b[0m\u001b[30;43mWARN\u001b[0m\u001b[35m\u001b[0m content No description\n",
            "\u001b[0m\u001b[37;40mnpm\u001b[0m \u001b[0m\u001b[30;43mWARN\u001b[0m\u001b[35m\u001b[0m content No repository field.\n",
            "\u001b[0m\u001b[37;40mnpm\u001b[0m \u001b[0m\u001b[30;43mWARN\u001b[0m\u001b[35m\u001b[0m content No README data\n",
            "\u001b[0m\u001b[37;40mnpm\u001b[0m \u001b[0m\u001b[30;43mWARN\u001b[0m\u001b[35m\u001b[0m content No license field.\n",
            "\u001b[0m\n",
            "\u001b[K\u001b[?25h+ localtunnel@2.0.2\n",
            "added 22 packages from 22 contributors and audited 22 packages in 2.108s\n",
            "\n",
            "3 packages are looking for funding\n",
            "  run `npm fund` for details\n",
            "\n",
            "found 1 \u001b[93mmoderate\u001b[0m severity vulnerability\n",
            "  run `npm audit fix` to fix them, or `npm audit` for details\n"
          ]
        }
      ],
      "source": [
        "!npm install localtunnel"
      ]
    },
    {
      "cell_type": "code",
      "execution_count": null,
      "metadata": {
        "id": "Zv912rRAN0fs"
      },
      "outputs": [],
      "source": [
        "!streamlit run /content/app.py --client.showErrorDetails=false &>/content/logs.txt &"
      ]
    },
    {
      "cell_type": "code",
      "execution_count": null,
      "metadata": {
        "colab": {
          "base_uri": "https://localhost:8080/"
        },
        "id": "LD4aS4kZo4VP",
        "outputId": "b89ac6c8-4c78-493e-fc1b-b99c17f819c1"
      },
      "outputs": [],
      "source": [
        "import urllib\n",
        "print(\"Password/Enpoint IP for localtunnel is:\",urllib.request.urlopen('https://ipv4.icanhazip.com').read().decode('utf8').strip(\"\\n\"))"
      ]
    },
    {
      "cell_type": "code",
      "execution_count": null,
      "metadata": {
        "colab": {
          "base_uri": "https://localhost:8080/"
        },
        "id": "XTGAizLhOIgC",
        "outputId": "4db684d9-b4e2-4bcd-c47e-9721b7f076bc"
      },
      "outputs": [],
      "source": [
        "!npx localtunnel --port 8501"
      ]
    }
  ],
  "metadata": {
    "accelerator": "GPU",
    "colab": {
      "gpuType": "T4",
      "provenance": []
    },
    "kernelspec": {
      "display_name": "Python 3",
      "name": "python3"
    },
    "language_info": {
      "name": "python"
    }
  },
  "nbformat": 4,
  "nbformat_minor": 0
}
